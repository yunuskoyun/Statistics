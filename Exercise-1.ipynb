{
 "cells": [
  {
   "cell_type": "markdown",
   "id": "b44c20e5",
   "metadata": {},
   "source": [
    "# STATISTICS\n",
    "# ASSIGNMENT (CONFIDENCE INTERVALS) \n"
   ]
  },
  {
   "cell_type": "code",
   "execution_count": 1,
   "id": "7b7e2142",
   "metadata": {},
   "outputs": [],
   "source": [
    "# import libraries which needed\n",
    "\n",
    "import numpy as np\n",
    "from scipy import stats"
   ]
  },
  {
   "cell_type": "markdown",
   "id": "0e838306",
   "metadata": {},
   "source": [
    "# EXERCISE 1. \n",
    "Suppose scores on exams in statistics are normally distributed with an unknown population mean and a population standard deviation of 3 points. A random sample of 36 scores is taken and gives a sample mean (sample  mean score) of 68. Find a confidence interval estimate for the population mean exam score (the mean score on all exams).\n",
    "Find a 90% confidence interval for the true (population) mean of statistics exam scores.\n"
   ]
  },
  {
   "cell_type": "code",
   "execution_count": 3,
   "id": "8b6175c9",
   "metadata": {},
   "outputs": [],
   "source": [
    "# given values\n",
    "\n",
    "samp_mean = 68\n",
    "s = 3\n",
    "n = 36"
   ]
  },
  {
   "cell_type": "code",
   "execution_count": 4,
   "id": "ad1fff2e",
   "metadata": {},
   "outputs": [
    {
     "data": {
      "text/plain": [
       "0.5"
      ]
     },
     "execution_count": 4,
     "metadata": {},
     "output_type": "execute_result"
    }
   ],
   "source": [
    "# standart error of the mean\n",
    "\n",
    "sem = s/np.sqrt(n)\n",
    "sem"
   ]
  },
  {
   "cell_type": "code",
   "execution_count": 6,
   "id": "851cead7",
   "metadata": {},
   "outputs": [
    {
     "name": "stdout",
     "output_type": "stream",
     "text": [
      "ci for exercise 1 is:  (67.15521377301812, 68.84478622698188)\n"
     ]
    }
   ],
   "source": [
    "# t distrubution for ci\n",
    "\n",
    "ci_1 = stats.t.interval(alpha=0.90, df=n-1, loc=samp_mean, scale=sem)\n",
    "print(\"ci for exercise 1 is: \", ci_1)"
   ]
  },
  {
   "cell_type": "markdown",
   "id": "b9dfff40",
   "metadata": {},
   "source": [
    "# EXERCISE 2. \n",
    "What is the normal body temperature for healthy humans? A random sample of 130 healthy human body temperatures provided by Allen Shoemaker7 yielded 98.25 degrees and standard deviation 0.73 degrees. \n",
    "Give a 99% confidence interval for the average body temperature of healthy people.\n"
   ]
  },
  {
   "cell_type": "code",
   "execution_count": 7,
   "id": "e0ed2e8f",
   "metadata": {},
   "outputs": [
    {
     "name": "stdout",
     "output_type": "stream",
     "text": [
      "ci for exercise 2 is:  (98.08260738705933, 98.41739261294067)\n"
     ]
    }
   ],
   "source": [
    "ci_2 = stats.t.interval(alpha=0.99, df=130-1, loc=98.25, scale=(0.73/np.sqrt(130)))\n",
    "print(\"ci for exercise 2 is: \", ci_2)"
   ]
  },
  {
   "cell_type": "markdown",
   "id": "876bab8e",
   "metadata": {},
   "source": [
    "# EXERCISE 3. \n",
    "The administrators for a hospital wished to estimate the average number of days required for inpatient treatment of patients between the ages of 25 and 34. A random sample of 500 hospital patients between these ages produced a mean and standard deviation equal to 5.4 and 3.1 days, respectively.\n",
    "Construct a 95% confidence interval for the mean length of stay for the population of patients from which the sample was drawn.\n"
   ]
  },
  {
   "cell_type": "code",
   "execution_count": 9,
   "id": "9a566bfc",
   "metadata": {},
   "outputs": [
    {
     "name": "stdout",
     "output_type": "stream",
     "text": [
      "ci for exercise 2 is:  (5.127617354510309, 5.672382645489692)\n"
     ]
    }
   ],
   "source": [
    "ci_3 = stats.t.interval(alpha=0.95, df=500-1, loc=5.4, scale=(3.1/np.sqrt(500)))\n",
    "print(\"ci for exercise 2 is: \", ci_3)"
   ]
  }
 ],
 "metadata": {
  "kernelspec": {
   "display_name": "Python 3 (ipykernel)",
   "language": "python",
   "name": "python3"
  },
  "language_info": {
   "codemirror_mode": {
    "name": "ipython",
    "version": 3
   },
   "file_extension": ".py",
   "mimetype": "text/x-python",
   "name": "python",
   "nbconvert_exporter": "python",
   "pygments_lexer": "ipython3",
   "version": "3.10.4"
  }
 },
 "nbformat": 4,
 "nbformat_minor": 5
}
